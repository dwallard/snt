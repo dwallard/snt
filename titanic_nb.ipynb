{
 "cells": [
  {
   "cell_type": "markdown",
   "metadata": {},
   "source": [
    "# MANIPULER DES DONNEES STRUCTUREES AVEC PYTHON\n",
    "\n",
    "## Préambule\n",
    "\n",
    "- Créer un dossier nommé Titanic\n",
    "- Dans ce dossier, copier et coller le fichier titanic.csv\n",
    "- Lancer Thonny et créer un nouveau programme nommé titanic.py que vous enregistrez dans la dossier Titanic\n",
    "- Dans ce fichier, vous allez écrire toutes les instructions données dasn ce fichier.\n",
    "\n",
    "C'est à dire, toutes les phrases précédées de *Entrée [x] :*\n",
    "\n",
    "## La bibliothèque Pandas\n",
    "\n",
    "Pour manipuler les données dans python, il faut importer la bibliothèque **pandas**.\n",
    "\n",
    "Elle n'est pas installée dans Thonny, pour l'installer aller dans **tools** puis **manage package**\n",
    "\n",
    "Chercher le package pandas et cliquer sur intaller:\n",
    "\n",
    "<img src=\"pandas.jpg\" width=\"500\"></img>\n",
    "\n",
    "Une fois installée, vous pouvez l'importer en écrivant l'instruction suivante dans votre programme titanic.py\n",
    "\n",
    "Lancer le programme, s'il n'y a pas de message d'erreur, c'est que la bibliothèque a bien été installée."
   ]
  },
  {
   "cell_type": "code",
   "execution_count": 23,
   "metadata": {},
   "outputs": [],
   "source": [
    "import pandas as pd"
   ]
  },
  {
   "cell_type": "markdown",
   "metadata": {},
   "source": [
    "Pour pouvoir afficher des graphique, on a besoin d'importer la bibliothèque **matplotlib**.\n",
    "\n",
    "Donc, installer la de la même manière. Et ajouter dans votre fichier:"
   ]
  },
  {
   "cell_type": "code",
   "execution_count": 26,
   "metadata": {},
   "outputs": [],
   "source": [
    "import matplotlib.pyplot as plt"
   ]
  },
  {
   "cell_type": "markdown",
   "metadata": {},
   "source": [
    "## Ouvrir le fichier titanic.csv\n",
    "\n",
    "Pour ouvrir le fichier, ou plutôt le tableau qui contient toutes les données des passagers du titanic, on écrit:"
   ]
  },
  {
   "cell_type": "code",
   "execution_count": 4,
   "metadata": {},
   "outputs": [],
   "source": [
    "data = pd.read_csv('titanic.csv', sep = ';')"
   ]
  },
  {
   "cell_type": "markdown",
   "metadata": {},
   "source": [
    "On peut connaitre le nombre de lignes et de colonnes du tableau, on utilise **shape**.\n",
    "\n",
    "Pour que votre programme l'affiche, n'oubliez pas d'ajouter **print**.\n",
    "\n",
    "Donc, écrire le ligne : **print(data.shape)**"
   ]
  },
  {
   "cell_type": "code",
   "execution_count": 12,
   "metadata": {},
   "outputs": [
    {
     "data": {
      "text/plain": [
       "(1309, 6)"
      ]
     },
     "execution_count": 12,
     "metadata": {},
     "output_type": "execute_result"
    }
   ],
   "source": [
    "data.shape"
   ]
  },
  {
   "cell_type": "markdown",
   "metadata": {},
   "source": [
    "On peut afficher les descripteurs : (ajouter print!!)"
   ]
  },
  {
   "cell_type": "code",
   "execution_count": 13,
   "metadata": {},
   "outputs": [
    {
     "data": {
      "text/plain": [
       "Index(['classe', 'survie', 'nom', 'sexe', 'age', 'tarif'], dtype='object')"
      ]
     },
     "execution_count": 13,
     "metadata": {},
     "output_type": "execute_result"
    }
   ],
   "source": [
    "data.columns"
   ]
  },
  {
   "cell_type": "markdown",
   "metadata": {},
   "source": [
    "## Exploitation basique des données\n",
    "\n",
    "La fonction **describe()** permet de calculer rapidement:\n",
    "\n",
    "la moyenne: **mean**, la valeer mini et maxi.\n",
    "\n",
    "Et d'autres valeurs qui nous importent peu ici."
   ]
  },
  {
   "cell_type": "code",
   "execution_count": 15,
   "metadata": {},
   "outputs": [
    {
     "data": {
      "text/html": [
       "<div>\n",
       "<style scoped>\n",
       "    .dataframe tbody tr th:only-of-type {\n",
       "        vertical-align: middle;\n",
       "    }\n",
       "\n",
       "    .dataframe tbody tr th {\n",
       "        vertical-align: top;\n",
       "    }\n",
       "\n",
       "    .dataframe thead th {\n",
       "        text-align: right;\n",
       "    }\n",
       "</style>\n",
       "<table border=\"1\" class=\"dataframe\">\n",
       "  <thead>\n",
       "    <tr style=\"text-align: right;\">\n",
       "      <th></th>\n",
       "      <th>classe</th>\n",
       "      <th>survie</th>\n",
       "      <th>sexe</th>\n",
       "      <th>age</th>\n",
       "      <th>tarif</th>\n",
       "    </tr>\n",
       "  </thead>\n",
       "  <tbody>\n",
       "    <tr>\n",
       "      <th>count</th>\n",
       "      <td>1309.000000</td>\n",
       "      <td>1309.000000</td>\n",
       "      <td>1309.000000</td>\n",
       "      <td>1046.000000</td>\n",
       "      <td>1308.000000</td>\n",
       "    </tr>\n",
       "    <tr>\n",
       "      <th>mean</th>\n",
       "      <td>2.294882</td>\n",
       "      <td>0.381971</td>\n",
       "      <td>1.355997</td>\n",
       "      <td>29.897706</td>\n",
       "      <td>33.363150</td>\n",
       "    </tr>\n",
       "    <tr>\n",
       "      <th>std</th>\n",
       "      <td>0.837836</td>\n",
       "      <td>0.486055</td>\n",
       "      <td>0.478997</td>\n",
       "      <td>14.414973</td>\n",
       "      <td>51.751529</td>\n",
       "    </tr>\n",
       "    <tr>\n",
       "      <th>min</th>\n",
       "      <td>1.000000</td>\n",
       "      <td>0.000000</td>\n",
       "      <td>1.000000</td>\n",
       "      <td>0.000000</td>\n",
       "      <td>0.000000</td>\n",
       "    </tr>\n",
       "    <tr>\n",
       "      <th>25%</th>\n",
       "      <td>2.000000</td>\n",
       "      <td>0.000000</td>\n",
       "      <td>1.000000</td>\n",
       "      <td>21.000000</td>\n",
       "      <td>8.000000</td>\n",
       "    </tr>\n",
       "    <tr>\n",
       "      <th>50%</th>\n",
       "      <td>3.000000</td>\n",
       "      <td>0.000000</td>\n",
       "      <td>1.000000</td>\n",
       "      <td>28.000000</td>\n",
       "      <td>14.000000</td>\n",
       "    </tr>\n",
       "    <tr>\n",
       "      <th>75%</th>\n",
       "      <td>3.000000</td>\n",
       "      <td>1.000000</td>\n",
       "      <td>2.000000</td>\n",
       "      <td>39.000000</td>\n",
       "      <td>31.000000</td>\n",
       "    </tr>\n",
       "    <tr>\n",
       "      <th>max</th>\n",
       "      <td>3.000000</td>\n",
       "      <td>1.000000</td>\n",
       "      <td>2.000000</td>\n",
       "      <td>80.000000</td>\n",
       "      <td>512.000000</td>\n",
       "    </tr>\n",
       "  </tbody>\n",
       "</table>\n",
       "</div>"
      ],
      "text/plain": [
       "            classe       survie         sexe          age        tarif\n",
       "count  1309.000000  1309.000000  1309.000000  1046.000000  1308.000000\n",
       "mean      2.294882     0.381971     1.355997    29.897706    33.363150\n",
       "std       0.837836     0.486055     0.478997    14.414973    51.751529\n",
       "min       1.000000     0.000000     1.000000     0.000000     0.000000\n",
       "25%       2.000000     0.000000     1.000000    21.000000     8.000000\n",
       "50%       3.000000     0.000000     1.000000    28.000000    14.000000\n",
       "75%       3.000000     1.000000     2.000000    39.000000    31.000000\n",
       "max       3.000000     1.000000     2.000000    80.000000   512.000000"
      ]
     },
     "execution_count": 15,
     "metadata": {},
     "output_type": "execute_result"
    }
   ],
   "source": [
    "data.describe()"
   ]
  },
  {
   "cell_type": "markdown",
   "metadata": {},
   "source": [
    "On peut donc voir que le tarif moyen payé est de 33,3 livres, et que l'âge moyen est 29,9 ans.\n",
    "\n",
    "On voit aussi que la moyenne de survie est 0,38. Donc, il y a 38% des personnes qui ont survecu.\n",
    "\n",
    "On peut aussi représenter des graphique, grace à la commande suivante:"
   ]
  },
  {
   "cell_type": "code",
   "execution_count": 25,
   "metadata": {},
   "outputs": [
    {
     "data": {
      "image/png": "[encoded data removed]",
      "text/plain": [
       "<Figure size 648x432 with 1 Axes>"
      ]
     },
     "metadata": {
      "needs_background": "light"
     },
     "output_type": "display_data"
    }
   ],
   "source": [
    "data.hist(column = 'tarif', figsize = (9,6), bins = 10)\n",
    "plt.show()\n"
   ]
  },
  {
   "cell_type": "markdown",
   "metadata": {},
   "source": [
    "On s'apperçoie que la plupart des passagers ont payé moins de 50 livres. "
   ]
  },
  {
   "cell_type": "markdown",
   "metadata": {},
   "source": [
    "## Explotation plus fine des données\n",
    "\n",
    "Pour déterminer la moyenne (**mean**) par classe, on va regrouper les données par classe à l'aide de la fonction **groupby** et calculer la moyenne à l'aide de la fonction **mean**:"
   ]
  },
  {
   "cell_type": "code",
   "execution_count": 27,
   "metadata": {},
   "outputs": [
    {
     "data": {
      "text/html": [
       "<div>\n",
       "<style scoped>\n",
       "    .dataframe tbody tr th:only-of-type {\n",
       "        vertical-align: middle;\n",
       "    }\n",
       "\n",
       "    .dataframe tbody tr th {\n",
       "        vertical-align: top;\n",
       "    }\n",
       "\n",
       "    .dataframe thead th {\n",
       "        text-align: right;\n",
       "    }\n",
       "</style>\n",
       "<table border=\"1\" class=\"dataframe\">\n",
       "  <thead>\n",
       "    <tr style=\"text-align: right;\">\n",
       "      <th></th>\n",
       "      <th>survie</th>\n",
       "      <th>sexe</th>\n",
       "      <th>age</th>\n",
       "      <th>tarif</th>\n",
       "    </tr>\n",
       "    <tr>\n",
       "      <th>classe</th>\n",
       "      <th></th>\n",
       "      <th></th>\n",
       "      <th></th>\n",
       "      <th></th>\n",
       "    </tr>\n",
       "  </thead>\n",
       "  <tbody>\n",
       "    <tr>\n",
       "      <th>1</th>\n",
       "      <td>0.619195</td>\n",
       "      <td>1.445820</td>\n",
       "      <td>39.165493</td>\n",
       "      <td>87.594427</td>\n",
       "    </tr>\n",
       "    <tr>\n",
       "      <th>2</th>\n",
       "      <td>0.429603</td>\n",
       "      <td>1.382671</td>\n",
       "      <td>29.517241</td>\n",
       "      <td>21.314079</td>\n",
       "    </tr>\n",
       "    <tr>\n",
       "      <th>3</th>\n",
       "      <td>0.255289</td>\n",
       "      <td>1.304654</td>\n",
       "      <td>24.842315</td>\n",
       "      <td>13.336158</td>\n",
       "    </tr>\n",
       "  </tbody>\n",
       "</table>\n",
       "</div>"
      ],
      "text/plain": [
       "          survie      sexe        age      tarif\n",
       "classe                                          \n",
       "1       0.619195  1.445820  39.165493  87.594427\n",
       "2       0.429603  1.382671  29.517241  21.314079\n",
       "3       0.255289  1.304654  24.842315  13.336158"
      ]
     },
     "execution_count": 27,
     "metadata": {},
     "output_type": "execute_result"
    }
   ],
   "source": [
    "data.groupby(['classe']).mean()"
   ]
  },
  {
   "cell_type": "markdown",
   "metadata": {},
   "source": [
    "On remarque que 62% des passager de la classe 1 on survecu contrairement aux autres classes.\n",
    "\n",
    "Pour déterminer les moyennes par sexe, il suffit de regrouper les données par sexe:"
   ]
  },
  {
   "cell_type": "code",
   "execution_count": 28,
   "metadata": {},
   "outputs": [
    {
     "data": {
      "text/html": [
       "<div>\n",
       "<style scoped>\n",
       "    .dataframe tbody tr th:only-of-type {\n",
       "        vertical-align: middle;\n",
       "    }\n",
       "\n",
       "    .dataframe tbody tr th {\n",
       "        vertical-align: top;\n",
       "    }\n",
       "\n",
       "    .dataframe thead th {\n",
       "        text-align: right;\n",
       "    }\n",
       "</style>\n",
       "<table border=\"1\" class=\"dataframe\">\n",
       "  <thead>\n",
       "    <tr style=\"text-align: right;\">\n",
       "      <th></th>\n",
       "      <th>classe</th>\n",
       "      <th>survie</th>\n",
       "      <th>age</th>\n",
       "      <th>tarif</th>\n",
       "    </tr>\n",
       "    <tr>\n",
       "      <th>sexe</th>\n",
       "      <th></th>\n",
       "      <th></th>\n",
       "      <th></th>\n",
       "      <th></th>\n",
       "    </tr>\n",
       "  </thead>\n",
       "  <tbody>\n",
       "    <tr>\n",
       "      <th>1</th>\n",
       "      <td>2.372479</td>\n",
       "      <td>0.190985</td>\n",
       "      <td>30.607903</td>\n",
       "      <td>26.232779</td>\n",
       "    </tr>\n",
       "    <tr>\n",
       "      <th>2</th>\n",
       "      <td>2.154506</td>\n",
       "      <td>0.727468</td>\n",
       "      <td>28.693299</td>\n",
       "      <td>46.246781</td>\n",
       "    </tr>\n",
       "  </tbody>\n",
       "</table>\n",
       "</div>"
      ],
      "text/plain": [
       "        classe    survie        age      tarif\n",
       "sexe                                          \n",
       "1     2.372479  0.190985  30.607903  26.232779\n",
       "2     2.154506  0.727468  28.693299  46.246781"
      ]
     },
     "execution_count": 28,
     "metadata": {},
     "output_type": "execute_result"
    }
   ],
   "source": [
    "data.groupby(['sexe']).mean()"
   ]
  },
  {
   "cell_type": "markdown",
   "metadata": {},
   "source": [
    "On remarque que 73% des femmes ont survecu contre 19% des hommes.\n",
    "\n",
    "On peut maintenant regrouper les données par classe et sexe et calculer la moyenne:"
   ]
  },
  {
   "cell_type": "code",
   "execution_count": 31,
   "metadata": {},
   "outputs": [
    {
     "data": {
      "text/html": [
       "<div>\n",
       "<style scoped>\n",
       "    .dataframe tbody tr th:only-of-type {\n",
       "        vertical-align: middle;\n",
       "    }\n",
       "\n",
       "    .dataframe tbody tr th {\n",
       "        vertical-align: top;\n",
       "    }\n",
       "\n",
       "    .dataframe thead th {\n",
       "        text-align: right;\n",
       "    }\n",
       "</style>\n",
       "<table border=\"1\" class=\"dataframe\">\n",
       "  <thead>\n",
       "    <tr style=\"text-align: right;\">\n",
       "      <th></th>\n",
       "      <th></th>\n",
       "      <th>survie</th>\n",
       "      <th>age</th>\n",
       "      <th>tarif</th>\n",
       "    </tr>\n",
       "    <tr>\n",
       "      <th>classe</th>\n",
       "      <th>sexe</th>\n",
       "      <th></th>\n",
       "      <th></th>\n",
       "      <th></th>\n",
       "    </tr>\n",
       "  </thead>\n",
       "  <tbody>\n",
       "    <tr>\n",
       "      <th rowspan=\"2\" valign=\"top\">1</th>\n",
       "      <th>1</th>\n",
       "      <td>0.340782</td>\n",
       "      <td>41.039735</td>\n",
       "      <td>70.011173</td>\n",
       "    </tr>\n",
       "    <tr>\n",
       "      <th>2</th>\n",
       "      <td>0.965278</td>\n",
       "      <td>37.037594</td>\n",
       "      <td>109.451389</td>\n",
       "    </tr>\n",
       "    <tr>\n",
       "      <th rowspan=\"2\" valign=\"top\">2</th>\n",
       "      <th>1</th>\n",
       "      <td>0.146199</td>\n",
       "      <td>30.829114</td>\n",
       "      <td>20.064327</td>\n",
       "    </tr>\n",
       "    <tr>\n",
       "      <th>2</th>\n",
       "      <td>0.886792</td>\n",
       "      <td>27.504854</td>\n",
       "      <td>23.330189</td>\n",
       "    </tr>\n",
       "    <tr>\n",
       "      <th rowspan=\"2\" valign=\"top\">3</th>\n",
       "      <th>1</th>\n",
       "      <td>0.152130</td>\n",
       "      <td>25.994269</td>\n",
       "      <td>12.449187</td>\n",
       "    </tr>\n",
       "    <tr>\n",
       "      <th>2</th>\n",
       "      <td>0.490741</td>\n",
       "      <td>22.197368</td>\n",
       "      <td>15.356481</td>\n",
       "    </tr>\n",
       "  </tbody>\n",
       "</table>\n",
       "</div>"
      ],
      "text/plain": [
       "               survie        age       tarif\n",
       "classe sexe                                 \n",
       "1      1     0.340782  41.039735   70.011173\n",
       "       2     0.965278  37.037594  109.451389\n",
       "2      1     0.146199  30.829114   20.064327\n",
       "       2     0.886792  27.504854   23.330189\n",
       "3      1     0.152130  25.994269   12.449187\n",
       "       2     0.490741  22.197368   15.356481"
      ]
     },
     "execution_count": 31,
     "metadata": {},
     "output_type": "execute_result"
    }
   ],
   "source": [
    "data.groupby(['classe','sexe']).mean()"
   ]
  },
  {
   "cell_type": "markdown",
   "metadata": {},
   "source": [
    "On remarque que 96% des femmes de la classe 1 ont survecu contre 49% des femmes de la classe 3."
   ]
  }
 ],
 "metadata": {
  "kernelspec": {
   "display_name": "Python 3",
   "language": "python",
   "name": "python3"
  },
  "language_info": {
   "codemirror_mode": {
    "name": "ipython",
    "version": 3
   },
   "file_extension": ".py",
   "mimetype": "text/x-python",
   "name": "python",
   "nbconvert_exporter": "python",
   "pygments_lexer": "ipython3",
   "version": "3.7.3"
  }
 },
 "nbformat": 4,
 "nbformat_minor": 2
}
