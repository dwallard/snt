{
 "cells": [
  {
   "cell_type": "markdown",
   "metadata": {},
   "source": [
    "# LIRE LES METADONNEES D'UN FICHIER\n",
    "\n",
    "Dans cette activité, nous allons lire les données **EXIF** d'une photo.\n",
    "\n",
    "Ces données sont enregistrées en même temps que la photo. On peut connaitre la marque de l'appareil qui a pris la photo, les dimensions de la photo, le lieu de la photo, etc ...\n",
    "\n",
    "## Préambule\n",
    "\n",
    "- Créer un dossier nommé **Donnees_Exif**\n",
    "- Dans ce dossier, copier et coller le fichier photo.jpg\n",
    "- Lancer Thonny et créer un nouveau programme nommé **donnees_exif.py** que vous enregistrez dans la dossier **Donnees_Exif**\n",
    "- Dans ce fichier, vous allez écrire toutes les instructions données dans ce fichier.\n",
    "\n",
    "C'est à dire, toutes les phrases précédées de **Entrée [x] :** (ou **In[x]** en anglais)\n",
    "\n",
    "## La bibliothèque PIL\n",
    "\n",
    "Pour manipuler les images dans python, il faut importer la bibliothèque **PIL**.\n",
    "\n",
    "Elle n'est pas installée dans Thonny, pour l'installer, aller dans **tools** puis **manage package**\n",
    "\n",
    "Chercher le package PIL et cliquer sur installer: (Sur l'image ci-dessous, vous voyez la bibliothèque pandas)\n",
    "\n",
    "<img src=\"pandas.jpg\" width=\"500\"></img>\n",
    "\n",
    "Maintenant, écrire les lignes suivantes dans votre fichier et excécuter le. S'il n'y a pas de message d'erreur, c'est que votre bibliothèque, c'est bien installée."
   ]
  },
  {
   "cell_type": "code",
   "execution_count": 2,
   "metadata": {},
   "outputs": [],
   "source": [
    "from PIL import Image"
   ]
  },
  {
   "cell_type": "markdown",
   "metadata": {},
   "source": [
    "Nous allons maintenant, ouvrir le fichier **photo.jpg** et stocker les données Exif dans la variable **exif_data**"
   ]
  },
  {
   "cell_type": "code",
   "execution_count": 3,
   "metadata": {},
   "outputs": [],
   "source": [
    "img = Image.open('photo.jpg')\n",
    "exif_data = img._getexif()"
   ]
  },
  {
   "cell_type": "markdown",
   "metadata": {},
   "source": [
    "On peut afficher le contenu de la variable **exif_data**, vous devriez avoir quelque chose qui ressemble à cela :"
   ]
  },
  {
   "cell_type": "code",
   "execution_count": 6,
   "metadata": {},
   "outputs": [
    {
     "data": {
      "text/plain": [
       "{256: 3968,\n",
       " 257: 2976,\n",
       " 258: (8, 8, 8),\n",
       " 41995: b'ipp\\x00',\n",
       " 270: 'dav',\n",
       " 271: 'HUAWEI',\n",
       " 272: 'PRA-LX1',\n",
       " 274: 0,\n",
       " 531: 1,\n",
       " 282: (72, 1),\n",
       " 283: (72, 1),\n",
       " 34853: {0: b'\\x02\\x02\\x00\\x00',\n",
       "  1: 'N',\n",
       "  2: ((47, 1), (37, 1), (29107360, 1000000)),\n",
       "  3: 'W',\n",
       "  4: ((3, 1), (25, 1), (42976570, 1000000)),\n",
       "  5: b'\\x00',\n",
       "  6: (4766, 100),\n",
       "  7: ((12, 1), (39, 1), (42, 1)),\n",
       "  27: 'GPS',\n",
       "  29: '2018:08:28'},\n",
       " 296: 2,\n",
       " 34665: 288,\n",
       " 305: 'PRA-LX1 8.0.0.370(C432)',\n",
       " 306: '2018:08:28 14:39:42',\n",
       " 36864: b'0210',\n",
       " 37121: b'\\x01\\x02\\x03\\x00',\n",
       " 37377: (298973, 10000),\n",
       " 36867: '2018:08:28 14:39:42',\n",
       " 36868: '2018:08:28 14:39:42',\n",
       " 37378: (227, 100),\n",
       " 37379: (0, 1),\n",
       " 37380: (0, 10),\n",
       " 37383: 5,\n",
       " 37384: 1,\n",
       " 37385: 24,\n",
       " 37386: (3830, 1000),\n",
       " 40961: 1,\n",
       " 40962: 3968,\n",
       " 40965: 8432,\n",
       " 41990: 0,\n",
       " 37520: '853035',\n",
       " 37521: '853035',\n",
       " 37522: '853035',\n",
       " 40963: 2976,\n",
       " 41996: 0,\n",
       " 41495: 2,\n",
       " 41728: b'\\x03',\n",
       " 33434: (529000, 1000000000),\n",
       " 33437: (220, 100),\n",
       " 41729: b'\\x01',\n",
       " 34850: 2,\n",
       " 41985: 1,\n",
       " 34855: 50,\n",
       " 41986: 0,\n",
       " 40960: b'0100',\n",
       " 41987: 0,\n",
       " 41988: (100, 100),\n",
       " 41989: 26,\n",
       " 41991: 0,\n",
       " 41992: 0,\n",
       " 41993: 0,\n",
       " 41994: 0,\n",
       " 37500: b'Auto\\x00'}"
      ]
     },
     "execution_count": 6,
     "metadata": {},
     "output_type": "execute_result"
    }
   ],
   "source": [
    "exif_data"
   ]
  },
  {
   "cell_type": "markdown",
   "metadata": {},
   "source": [
    "Comme vous pouvez le constater, nous avons un système clé:valeur (à chaque clé correspond une valeur). Les clés sont \"codées\" par des nombres, pour comprendre la signification de ces nombres, consultez le site http://www.exiv2.org/tags.html.\n",
    "\n",
    "En vous aidant du site web cité ci-dessus, essayez de trouver les informations suivantes pour l'image \"photo.jpg\" :\n",
    "\n",
    "- la largeur de l'image en pixel\n",
    "- la hauteur de l'image en pixel\n",
    "- le fabricant du matériel\n",
    "- la date et l'heure de la prise de vue"
   ]
  },
  {
   "cell_type": "code",
   "execution_count": 17,
   "metadata": {},
   "outputs": [
    {
     "name": "stdout",
     "output_type": "stream",
     "text": [
      "La largeur de l'image est de 3968 pixels et sa hauteur est de 2976 pixels\n"
     ]
    }
   ],
   "source": [
    "print(\"La largeur de l'image est de\",exif_data[256],\"pixels et sa hauteur est de\",exif_data[257],\"pixels\")"
   ]
  },
  {
   "cell_type": "markdown",
   "metadata": {},
   "source": [
    "Recopier et compléter le code ci-dessous, pour afficher le frabriquant du matériel.\n",
    "\n",
    "print(\"Le frabriquant du matériel est\", exif_data[....])"
   ]
  },
  {
   "cell_type": "code",
   "execution_count": null,
   "metadata": {},
   "outputs": [],
   "source": []
  },
  {
   "cell_type": "markdown",
   "metadata": {},
   "source": [
    "Recopier et compléter le code ci-dessous, pour afficher la date et l'heure de la prise de vue.\n",
    "\n",
    "print(\"Le phota a été prise le\", exif_data[....], \"à\", )"
   ]
  },
  {
   "cell_type": "code",
   "execution_count": null,
   "metadata": {},
   "outputs": [],
   "source": []
  }
 ],
 "metadata": {
  "kernelspec": {
   "display_name": "Python 3",
   "language": "python",
   "name": "python3"
  },
  "language_info": {
   "codemirror_mode": {
    "name": "ipython",
    "version": 3
   },
   "file_extension": ".py",
   "mimetype": "text/x-python",
   "name": "python",
   "nbconvert_exporter": "python",
   "pygments_lexer": "ipython3",
   "version": "3.7.3"
  }
 },
 "nbformat": 4,
 "nbformat_minor": 2
}
