{
 "cells": [
  {
   "cell_type": "markdown",
   "metadata": {},
   "source": [
    "# Convertir une image en niveaux de gris\n",
    "\n",
    "\n",
    "\n",
    "Pour qu’un pixel soit en niveau de gris, ses 3 canaux RVB doivent avoir la même valeur.\n",
    "\n",
    "- La première méthode : \n",
    "\n",
    "La valeur correspond à la moyenne des 3 canaux RVB.\n",
    "\n",
    "Partie entière de ((R + V + B) /3)\n",
    "\n",
    "- La deuxième méthode :  \n",
    "\n",
    "La HDTV conformément à la Rec. 709 de l’industrie audiovisuelle reconstitue la luminance en utilisant les coefficients RVB 0.2126, 0.7152 et 0.0722.\n",
    "\n",
    "Partie entière de (0.2126 * R + 0.7152 * V + 0.0722 * B)\n"
   ]
  },
  {
   "cell_type": "markdown",
   "metadata": {},
   "source": [
    "Pour manipuler les images et les afficher dans le NoteBook, on importe les bibliothèques."
   ]
  },
  {
   "cell_type": "code",
   "execution_count": 2,
   "metadata": {},
   "outputs": [],
   "source": [
    "from PIL import Image\n",
    "from matplotlib.pyplot import imshow\n",
    "import numpy as np"
   ]
  },
  {
   "cell_type": "markdown",
   "metadata": {},
   "source": [
    "### Exercice :\n",
    "\n",
    "-\tOuvrir l'image tour_eiffel.jpg et stocker la dans la variable img.\n",
    "2.\tOuvrir Thonny et créer un fichier nommé tour_eiffel.py et enregistrer le dans le même dossier.\n",
    "3.\tCréer un programme qui affiche la photo de la tour Eiffel en noir et blanc.\n"
   ]
  },
  {
   "cell_type": "code",
   "execution_count": null,
   "metadata": {},
   "outputs": [],
   "source": []
  }
 ],
 "metadata": {
  "kernelspec": {
   "display_name": "Python 3",
   "language": "python",
   "name": "python3"
  },
  "language_info": {
   "codemirror_mode": {
    "name": "ipython",
    "version": 3
   },
   "file_extension": ".py",
   "mimetype": "text/x-python",
   "name": "python",
   "nbconvert_exporter": "python",
   "pygments_lexer": "ipython3",
   "version": "3.7.6"
  }
 },
 "nbformat": 4,
 "nbformat_minor": 4
}
