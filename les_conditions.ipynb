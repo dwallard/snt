{
 "cells": [
  {
   "cell_type": "markdown",
   "metadata": {},
   "source": [
    "# Les instructions conditionnelles"
   ]
  },
  {
   "cell_type": "markdown",
   "metadata": {},
   "source": [
    "Nous avons souvent besoin d'exécuter des instructions en fonction du respect ou non d'une condition. On peut résumer cette situation en français par :\n",
    "\n",
    "\"**SI** la condition est satisfaite **ALORS** on exécute une série d'instructions **SINON** on exécute une autre série d'instructions.\""
   ]
  },
  {
   "cell_type": "markdown",
   "metadata": {},
   "source": [
    "## Exemple 1\n",
    "\n",
    "On demande à un utilisateur de rentrer un nombre. \n",
    "\n",
    "**Si** ce nombre est inférieur à 10, on affiche ** Le nombre est inérieur à 10**\n",
    "\n",
    "**sinon** on affiche ** Le nombre est supérieur à 10**"
   ]
  },
  {
   "cell_type": "code",
   "execution_count": 1,
   "metadata": {},
   "outputs": [
    {
     "name": "stdout",
     "output_type": "stream",
     "text": [
      "Entrer un nombre entier3\n",
      "Le nombre est inférieur à 10\n"
     ]
    }
   ],
   "source": [
    "nb = int(input(\"Entrer un nombre entier\"))\n",
    "if nb <= 10:\n",
    "    print(\"Le nombre est inférieur à 10\")\n",
    "else:\n",
    "    print(\"Le nombre est supérieur à 10\")"
   ]
  },
  {
   "cell_type": "markdown",
   "metadata": {},
   "source": [
    "## Exemple 2\n",
    "\n",
    "On demande à un utilisateur de rentrer un nombre. \n",
    "\n",
    "**Si** ce nombre est divisible par 2, on affiche ** Le nombre est pair**\n",
    "\n",
    "**sinon** on affiche ** Le nombre est impair**"
   ]
  },
  {
   "cell_type": "code",
   "execution_count": 2,
   "metadata": {},
   "outputs": [
    {
     "name": "stdout",
     "output_type": "stream",
     "text": [
      "Saisir un nombre entier : 13\n",
      "Votre nombre est impair.\n"
     ]
    }
   ],
   "source": [
    "nombre_entier = int(input(\"Saisir un nombre entier : \"))\n",
    "if( (nombre_entier % 2) == 0):\n",
    "    print(\"Votre nombre est pair.\")\n",
    "else:\n",
    "    print(\"Votre nombre est impair.\")"
   ]
  },
  {
   "cell_type": "markdown",
   "metadata": {},
   "source": [
    "On notera :\n",
    "* le symbole \":\" à la fin de la ligne 2\n",
    "* le décalage en ligne 3, cela s'appelle une **indentation**\n",
    "\n",
    "Aprés le symbole \":\", on doit indenter."
   ]
  }
 ],
 "metadata": {
  "kernelspec": {
   "display_name": "Python 3",
   "language": "python",
   "name": "python3"
  },
  "language_info": {
   "codemirror_mode": {
    "name": "ipython",
    "version": 3
   },
   "file_extension": ".py",
   "mimetype": "text/x-python",
   "name": "python",
   "nbconvert_exporter": "python",
   "pygments_lexer": "ipython3",
   "version": "3.7.3"
  }
 },
 "nbformat": 4,
 "nbformat_minor": 2
}
