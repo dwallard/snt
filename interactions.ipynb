{
 "cells": [
  {
   "cell_type": "markdown",
   "metadata": {},
   "source": [
    "# Interaction avec l'utilisateur"
   ]
  },
  {
   "cell_type": "markdown",
   "metadata": {},
   "source": [
    "### La Saisie"
   ]
  },
  {
   "cell_type": "markdown",
   "metadata": {},
   "source": [
    "La plupart des scripts nécessitent à un moment donné une intervention de l'utilisateur. Il est alors invité à saisir **des caractères** au clavier. Cette opération se définit en Python avec la fonction **input()** comme dans l'exemple suivant. Cette fonction fournit en retour **une chaine de caractères** correspondant à ce que l'utilisateur a saisi. A l'intérieur des parenthèses, on donne un petit message descriptif destiné à l'utilisateur."
   ]
  },
  {
   "cell_type": "code",
   "execution_count": 1,
   "metadata": {},
   "outputs": [
    {
     "name": "stdout",
     "output_type": "stream",
     "text": [
      "Veuillez saisir votre prénom : David\n"
     ]
    }
   ],
   "source": [
    "prenom = input(\"Veuillez saisir votre prénom : \")"
   ]
  },
  {
   "cell_type": "code",
   "execution_count": 5,
   "metadata": {},
   "outputs": [
    {
     "data": {
      "text/plain": [
       "'David'"
      ]
     },
     "execution_count": 5,
     "metadata": {},
     "output_type": "execute_result"
    }
   ],
   "source": [
    "prenom"
   ]
  },
  {
   "cell_type": "code",
   "execution_count": 6,
   "metadata": {},
   "outputs": [
    {
     "data": {
      "text/plain": [
       "str"
      ]
     },
     "execution_count": 6,
     "metadata": {},
     "output_type": "execute_result"
    }
   ],
   "source": [
    "type(prenom)"
   ]
  },
  {
   "cell_type": "markdown",
   "metadata": {},
   "source": [
    "La variable **prenom** contient le mot entré par l'utilisateur. On voit qu'elle est du type **'str'**"
   ]
  },
  {
   "cell_type": "markdown",
   "metadata": {},
   "source": [
    "Pour stocker en mémoire la saisie de l'utilisateur, on doit réaliser l'affectation de ce contenu à une variable. Le typage dynamique de Python va nous donner un type **'str'**. Alors il faudra être vigilant lorsque l'on veut saisir des entiers ou des flottants (réels)"
   ]
  },
  {
   "cell_type": "code",
   "execution_count": 7,
   "metadata": {},
   "outputs": [
    {
     "name": "stdout",
     "output_type": "stream",
     "text": [
      "Veuillez saisir votre age : 16\n"
     ]
    },
    {
     "data": {
      "text/plain": [
       "str"
      ]
     },
     "execution_count": 7,
     "metadata": {},
     "output_type": "execute_result"
    }
   ],
   "source": [
    "age = input(\"Veuillez saisir votre age : \")\n",
    "type(age)"
   ]
  },
  {
   "cell_type": "markdown",
   "metadata": {},
   "source": [
    "Comme vu plus haut, ici notre variable age est de type 'str' alors que nous voulions au départ un entier ! \n",
    "\n",
    "Il faudra alors effectuer un changement de type pour faire comprendre à Python ce que nous voulons exactement. Et oui c'est le programmeur qui commande la machine. **Attention tout de même à ce changement de type, tout n'est pas convertible !**"
   ]
  },
  {
   "cell_type": "code",
   "execution_count": 8,
   "metadata": {},
   "outputs": [
    {
     "name": "stdout",
     "output_type": "stream",
     "text": [
      "Veuillez saisir l'abscisse du point A : 3.5\n"
     ]
    },
    {
     "data": {
      "text/plain": [
       "float"
      ]
     },
     "execution_count": 8,
     "metadata": {},
     "output_type": "execute_result"
    }
   ],
   "source": [
    "x_A = float(input(\"Veuillez saisir l'abscisse du point A : \"))\n",
    "type(x_A)"
   ]
  },
  {
   "cell_type": "markdown",
   "metadata": {},
   "source": [
    "Ceci est très important, car maintenant onpeut faire des opérations avec la variable **x_A**. "
   ]
  },
  {
   "cell_type": "markdown",
   "metadata": {},
   "source": [
    "### L'affichage"
   ]
  },
  {
   "cell_type": "markdown",
   "metadata": {},
   "source": [
    "Nous avons également souvent besoin d'afficher un certain nombre d'informations sur notre écran. Pour réaliser cette action avec Python, on utilise la fonction **print()** comme dans l'exemple suivant :"
   ]
  },
  {
   "cell_type": "code",
   "execution_count": 10,
   "metadata": {},
   "outputs": [
    {
     "name": "stdout",
     "output_type": "stream",
     "text": [
      "Je m'appelle David\n"
     ]
    }
   ],
   "source": [
    "print(\"Je m'appelle\", prenom)"
   ]
  },
  {
   "cell_type": "markdown",
   "metadata": {},
   "source": [
    "Changer le code précédent afin d'afficher : \"L'abscisse du point A est \", x_A "
   ]
  },
  {
   "cell_type": "code",
   "execution_count": null,
   "metadata": {},
   "outputs": [],
   "source": []
  }
 ],
 "metadata": {
  "kernelspec": {
   "display_name": "Python 3",
   "language": "python",
   "name": "python3"
  },
  "language_info": {
   "codemirror_mode": {
    "name": "ipython",
    "version": 3
   },
   "file_extension": ".py",
   "mimetype": "text/x-python",
   "name": "python",
   "nbconvert_exporter": "python",
   "pygments_lexer": "ipython3",
   "version": "3.7.3"
  }
 },
 "nbformat": 4,
 "nbformat_minor": 2
}
