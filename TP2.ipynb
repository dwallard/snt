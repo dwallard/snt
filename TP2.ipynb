{
 "cells": [
  {
   "cell_type": "code",
   "execution_count": 2,
   "metadata": {},
   "outputs": [],
   "source": [
    "import pandas"
   ]
  },
  {
   "cell_type": "code",
   "execution_count": 3,
   "metadata": {},
   "outputs": [],
   "source": [
    "data = pandas.read_csv('titanic.csv', sep = ';')"
   ]
  },
  {
   "cell_type": "code",
   "execution_count": 5,
   "metadata": {},
   "outputs": [],
   "source": [
    "from PIL import Image\n",
    "import math"
   ]
  },
  {
   "cell_type": "code",
   "execution_count": 6,
   "metadata": {},
   "outputs": [],
   "source": [
    "img = Image.open(\"andy_warhol.jpg\")\n",
    "largeur, hauteur = img.size\n",
    "\n",
    "new_img = Image.new('RGB', (2*largeur,2*hauteur))\n",
    "\n",
    "for y in range(hauteur): \n",
    "    for x in range(largeur):\n",
    "        r,v,b=img.getpixel((x,y))        \n",
    "        new_img.putpixel((x,y),(r,v,b))\n",
    "        new_img.putpixel((largeur+x,y),(v,r,b))\n",
    "        new_img.putpixel((x,hauteur+y),(r,b,v))\n",
    "        new_img.putpixel((largeur+x,hauteur+y),(b,v,r))\n",
    " \n",
    "new_img.show()\n"
   ]
  },
  {
   "cell_type": "code",
   "execution_count": null,
   "metadata": {},
   "outputs": [],
   "source": []
  }
 ],
 "metadata": {
  "kernelspec": {
   "display_name": "Python 3",
   "language": "python",
   "name": "python3"
  },
  "language_info": {
   "codemirror_mode": {
    "name": "ipython",
    "version": 3
   },
   "file_extension": ".py",
   "mimetype": "text/x-python",
   "name": "python",
   "nbconvert_exporter": "python",
   "pygments_lexer": "ipython3",
   "version": "3.7.3"
  }
 },
 "nbformat": 4,
 "nbformat_minor": 2
}
