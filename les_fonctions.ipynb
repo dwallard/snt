{
 "cells": [
  {
   "cell_type": "markdown",
   "metadata": {},
   "source": [
    "# Les procédures et fonctions"
   ]
  },
  {
   "cell_type": "markdown",
   "metadata": {},
   "source": [
    "Jusqu'à présent, les scripts présentés étaient relativement courts car le but était de faire découvrir les premiers éléments de langage. Cependant, dans le cadre de véritables projets, les lignes de code vont s'accumuler !\n",
    "\n",
    "Il faudra donc au préalable décomposer notre problématique en plusieurs sous-problèmes plus simples, qui pourront éventuellement être eux-mêmes décomposés à leur tour... Il arrivera souvent que vous ayez besoin de faire exécuter une même séquence d'instructions à différents endroits de votre programme. L'idéal est de ne pas la réécrire !\n",
    "\n",
    "On va donc regrouper ce bloc d'instructions sous une entité qui peut prendre 2 formes :\n",
    "* Une procédure\n",
    "* Une fonction"
   ]
  },
  {
   "cell_type": "markdown",
   "metadata": {},
   "source": [
    "### Les procédures"
   ]
  },
  {
   "cell_type": "markdown",
   "metadata": {},
   "source": [
    "D'une façon générale, une **procédure** est une sorte de boite noire qui réalise une action donnée à partir d'un certains nombres d'entrées que l'on appelle des **paramètres**. \n",
    "\n",
    "Vous les avez déja utilisé sans le savoir. Par exemple, lorsqu'on utilise l'instruction *print(\"Bonjour\")*, on appelle la procédure *print* qui prend comme paramètre le texte que l'on veut afficher et réalise l'action d'afficher à l'écran de l'utilisateur ce texte. Cependant nous ne savons pas précisément le contenu de cette boite.\n",
    "\n",
    "Dans notre cas, ce sera à nous de la créer pour pouvoir l'utiliser. Prenons un cas concret, nous souhaitons afficher l'aire de deux rectangles (ou plus) dont nous connaissons respectivement la largeur et la longueur. Nous voyons aisément que nous allons avoir besoin de créer une procédure permettant de calculer et d'afficher l'aire."
   ]
  },
  {
   "cell_type": "code",
   "execution_count": 11,
   "metadata": {},
   "outputs": [],
   "source": [
    "#************************************************************************************************\n",
    "# Procédure permettant de calculer et d'afficher l'aire d'un rectangle dont les paramètres sont :\n",
    "#   larg : la largeur de notre rectangle\n",
    "#   long : la longueur de notre rectanlge\n",
    "#************************************************************************************************\n",
    "\n",
    "def Calcul_et_affichage_Aire_Rectangle(larg, long):\n",
    "    aire = larg * long\n",
    "    print(\"L'aire du rectangle de largeur\",larg,\"et de longueur\",long,\"est de\",aire,\"m²\")"
   ]
  },
  {
   "cell_type": "markdown",
   "metadata": {},
   "source": [
    "Nous avons juste créer qui réalise notre action. Il nous maintenant à l'utiliser;"
   ]
  },
  {
   "cell_type": "code",
   "execution_count": 12,
   "metadata": {},
   "outputs": [
    {
     "name": "stdout",
     "output_type": "stream",
     "text": [
      "L'aire du rectangle de largeur 3 et de longueur 5.5 est de 16.5 m²\n",
      "L'aire du rectangle de largeur 20.2 et de longueur 2 est de 40.4 m²\n"
     ]
    }
   ],
   "source": [
    "Calcul_et_affichage_Aire_Rectangle(3,5.5)\n",
    "Calcul_et_affichage_Aire_Rectangle(20.2,2)"
   ]
  },
  {
   "cell_type": "markdown",
   "metadata": {},
   "source": [
    "le résultat de l'aire de nos deux rectangles n'est pas gardé en mémoire !"
   ]
  },
  {
   "cell_type": "markdown",
   "metadata": {},
   "source": [
    "### Les fonctions"
   ]
  },
  {
   "cell_type": "markdown",
   "metadata": {},
   "source": [
    "De façon simple, une fonction est une procédure qui renvoie un résultat stockable dans une variable. Reprenons notre exemple précédent en contraignant simplement de calculer l'aire de notre rectangle dont nous connaissons la largeur et la longueur."
   ]
  },
  {
   "cell_type": "code",
   "execution_count": 14,
   "metadata": {},
   "outputs": [],
   "source": [
    "#************************************************************************************************\n",
    "# Fonction permettant de calculer l'aire d'un rectangle dont les paramètres sont :\n",
    "#   larg : la largeur de notre rectangle\n",
    "#   long : la longueur de notre rectanlge\n",
    "# Cette fonction retourne l'aire \n",
    "#************************************************************************************************\n",
    "\n",
    "def Calcul_Aire_Rectangle(larg, long):\n",
    "    aire = larg * long\n",
    "    return aire"
   ]
  },
  {
   "cell_type": "markdown",
   "metadata": {},
   "source": [
    "Nous l'utilisons"
   ]
  },
  {
   "cell_type": "code",
   "execution_count": 15,
   "metadata": {
    "scrolled": true
   },
   "outputs": [
    {
     "name": "stdout",
     "output_type": "stream",
     "text": [
      "L'aire du premier rectangle est de 16.5 m²\n",
      "L'aire du deuxième rectangle est de 40.4 m²\n"
     ]
    }
   ],
   "source": [
    "aire1 = Calcul_Aire_Rectangle(3,5.5)\n",
    "print(\"L'aire du premier rectangle est de\",aire1,\"m²\")\n",
    "aire2 = Calcul_Aire_Rectangle(20.2,2)\n",
    "print(\"L'aire du deuxième rectangle est de\",aire2,\"m²\")"
   ]
  },
  {
   "cell_type": "markdown",
   "metadata": {},
   "source": [
    "Dans ce cas, les résultats sont gardés en mémoire et peuvent donc être réutilisés plus tard.\n",
    "\n",
    "Par abus de langage, on rassemble souvent ces deux entités sous le terme global de **fonctions**."
   ]
  }
 ],
 "metadata": {
  "kernelspec": {
   "display_name": "Python 3",
   "language": "python",
   "name": "python3"
  },
  "language_info": {
   "codemirror_mode": {
    "name": "ipython",
    "version": 3
   },
   "file_extension": ".py",
   "mimetype": "text/x-python",
   "name": "python",
   "nbconvert_exporter": "python",
   "pygments_lexer": "ipython3",
   "version": "3.7.1"
  }
 },
 "nbformat": 4,
 "nbformat_minor": 2
}
