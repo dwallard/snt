{
 "cells": [
  {
   "cell_type": "markdown",
   "metadata": {},
   "source": [
    "# Réaliser le négatif d'une image\n",
    "\n",
    "\n",
    "\n",
    "Pour obtenir le négatif d’une image il faut remplacer chacun des canaux par la valeur qu’il faudrait lui ajouter pour atteindre 255.\n",
    "\n",
    "Par exemple si le canal rouge vaut 100, il faut le remplacer par 255-100 soit la valeur 155.\n",
    "\n"
   ]
  },
  {
   "cell_type": "markdown",
   "metadata": {},
   "source": [
    "### Exercice:\n",
    "\n",
    "Par quelles valeurs faut-il remplacer les canaux si le pixel initial est :\n",
    "R : 0        V : 127        B : 0     ?\n"
   ]
  },
  {
   "cell_type": "markdown",
   "metadata": {},
   "source": []
  },
  {
   "cell_type": "markdown",
   "metadata": {},
   "source": [
    "Pour manipuler les images et les afficher dans le NoteBook, on importe les bibliothèques."
   ]
  },
  {
   "cell_type": "code",
   "execution_count": 3,
   "metadata": {},
   "outputs": [],
   "source": [
    "from PIL import Image\n",
    "from matplotlib.pyplot import imshow\n",
    "import numpy as np"
   ]
  },
  {
   "cell_type": "markdown",
   "metadata": {},
   "source": [
    "### Exercice :\n",
    "\n",
    "-\tOuvrir l'image gambetta.jpg et stocker la dans la variable img.\n",
    "\n",
    "-\tCréer un programme qui affiche le négatif de la photo.\n"
   ]
  },
  {
   "cell_type": "code",
   "execution_count": null,
   "metadata": {},
   "outputs": [],
   "source": []
  }
 ],
 "metadata": {
  "kernelspec": {
   "display_name": "Python 3",
   "language": "python",
   "name": "python3"
  },
  "language_info": {
   "codemirror_mode": {
    "name": "ipython",
    "version": 3
   },
   "file_extension": ".py",
   "mimetype": "text/x-python",
   "name": "python",
   "nbconvert_exporter": "python",
   "pygments_lexer": "ipython3",
   "version": "3.7.6"
  }
 },
 "nbformat": 4,
 "nbformat_minor": 4
}
