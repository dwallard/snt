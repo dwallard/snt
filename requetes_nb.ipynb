{
 "cells": [
  {
   "cell_type": "markdown",
   "metadata": {},
   "source": [
    "# LES REQUETES AVEC PYTHON \n",
    "\n",
    "## Préambule\n",
    "\n",
    "- Créer un dossier nommé **Notes_DS**\n",
    "- Dans ce dossier, copier et coller le fichier **notes_ds.csv**\n",
    "- Lancer Thonny et créer un nouveau programme nommé **trait_donnees.py** que vous enregistrez dans la dossier **Notes_DS** \n",
    "- Dans ce fichier, vous allez écrire toutes les instructions données dasn ce fichier.\n",
    "\n",
    "C'est à dire, toutes les phrases précédées de **Entrée [x] :**\n",
    "\n",
    "On commence par importer la bibliothèque **pandas** et les données du fichier **notes_ds.csv** avec comme séparateur **la virgule  \",\"**"
   ]
  },
  {
   "cell_type": "code",
   "execution_count": 6,
   "metadata": {},
   "outputs": [],
   "source": [
    "import pandas as pd\n",
    "\n",
    "data = pd.read_csv(\"notes_ds.csv\", sep=\",\")"
   ]
  },
  {
   "cell_type": "markdown",
   "metadata": {},
   "source": [
    "On peut afficher le tableau (dans votre fichier ajouter **print(data)**)"
   ]
  },
  {
   "cell_type": "code",
   "execution_count": 16,
   "metadata": {},
   "outputs": [
    {
     "data": {
      "text/html": [
       "<div>\n",
       "<style scoped>\n",
       "    .dataframe tbody tr th:only-of-type {\n",
       "        vertical-align: middle;\n",
       "    }\n",
       "\n",
       "    .dataframe tbody tr th {\n",
       "        vertical-align: top;\n",
       "    }\n",
       "\n",
       "    .dataframe thead th {\n",
       "        text-align: right;\n",
       "    }\n",
       "</style>\n",
       "<table border=\"1\" class=\"dataframe\">\n",
       "  <thead>\n",
       "    <tr style=\"text-align: right;\">\n",
       "      <th></th>\n",
       "      <th>nom</th>\n",
       "      <th>prenom</th>\n",
       "      <th>date_naissance</th>\n",
       "      <th>note_1</th>\n",
       "      <th>note_2</th>\n",
       "      <th>note_3</th>\n",
       "    </tr>\n",
       "  </thead>\n",
       "  <tbody>\n",
       "    <tr>\n",
       "      <th>0</th>\n",
       "      <td>Franek</td>\n",
       "      <td>Baptiste</td>\n",
       "      <td>23/04/2004</td>\n",
       "      <td>12</td>\n",
       "      <td>11.0</td>\n",
       "      <td>13.5</td>\n",
       "    </tr>\n",
       "    <tr>\n",
       "      <th>1</th>\n",
       "      <td>Durant</td>\n",
       "      <td>Pierre</td>\n",
       "      <td>11/11/2005</td>\n",
       "      <td>17</td>\n",
       "      <td>14.5</td>\n",
       "      <td>13.0</td>\n",
       "    </tr>\n",
       "    <tr>\n",
       "      <th>2</th>\n",
       "      <td>Leporter</td>\n",
       "      <td>Alexia</td>\n",
       "      <td>13/09/2004</td>\n",
       "      <td>8</td>\n",
       "      <td>10.0</td>\n",
       "      <td>13.0</td>\n",
       "    </tr>\n",
       "    <tr>\n",
       "      <th>3</th>\n",
       "      <td>Franc</td>\n",
       "      <td>Noemie</td>\n",
       "      <td>22/08/2004</td>\n",
       "      <td>18</td>\n",
       "      <td>18.5</td>\n",
       "      <td>17.0</td>\n",
       "    </tr>\n",
       "    <tr>\n",
       "      <th>4</th>\n",
       "      <td>Wallyne</td>\n",
       "      <td>Cloe</td>\n",
       "      <td>03/01/2004</td>\n",
       "      <td>6</td>\n",
       "      <td>2.0</td>\n",
       "      <td>5.5</td>\n",
       "    </tr>\n",
       "    <tr>\n",
       "      <th>5</th>\n",
       "      <td>Zine</td>\n",
       "      <td>Ellias</td>\n",
       "      <td>18/04/2003</td>\n",
       "      <td>14</td>\n",
       "      <td>3.0</td>\n",
       "      <td>8.0</td>\n",
       "    </tr>\n",
       "  </tbody>\n",
       "</table>\n",
       "</div>"
      ],
      "text/plain": [
       "        nom    prenom date_naissance  note_1  note_2  note_3\n",
       "0    Franek  Baptiste     23/04/2004      12    11.0    13.5\n",
       "1    Durant    Pierre     11/11/2005      17    14.5    13.0\n",
       "2  Leporter    Alexia     13/09/2004       8    10.0    13.0\n",
       "3     Franc    Noemie     22/08/2004      18    18.5    17.0\n",
       "4   Wallyne      Cloe     03/01/2004       6     2.0     5.5\n",
       "5      Zine    Ellias     18/04/2003      14     3.0     8.0"
      ]
     },
     "execution_count": 16,
     "metadata": {},
     "output_type": "execute_result"
    }
   ],
   "source": [
    "data"
   ]
  },
  {
   "cell_type": "markdown",
   "metadata": {},
   "source": [
    "## Les requêtes\n",
    "\n",
    "Faire une requête, c'est afficher une partie des données.\n",
    "\n",
    "Par exemple:  les trois premières lignes ou les élèves qui ont eu une note supérieure à 10 ou encore afficher les notes d'un élève en particulier.\n",
    "\n",
    "Pour faire une requête, on utilise la fonction **loc[ ]** et entre crochet, on écrit la requête.\n",
    "\n",
    "Donc, pour afficher les trois premières lignes, on écrit:"
   ]
  },
  {
   "cell_type": "code",
   "execution_count": 11,
   "metadata": {},
   "outputs": [
    {
     "data": {
      "text/html": [
       "<div>\n",
       "<style scoped>\n",
       "    .dataframe tbody tr th:only-of-type {\n",
       "        vertical-align: middle;\n",
       "    }\n",
       "\n",
       "    .dataframe tbody tr th {\n",
       "        vertical-align: top;\n",
       "    }\n",
       "\n",
       "    .dataframe thead th {\n",
       "        text-align: right;\n",
       "    }\n",
       "</style>\n",
       "<table border=\"1\" class=\"dataframe\">\n",
       "  <thead>\n",
       "    <tr style=\"text-align: right;\">\n",
       "      <th></th>\n",
       "      <th>nom</th>\n",
       "      <th>prenom</th>\n",
       "      <th>date_naissance</th>\n",
       "      <th>note_1</th>\n",
       "      <th>note_2</th>\n",
       "      <th>note_3</th>\n",
       "    </tr>\n",
       "  </thead>\n",
       "  <tbody>\n",
       "    <tr>\n",
       "      <th>0</th>\n",
       "      <td>Franek</td>\n",
       "      <td>Baptiste</td>\n",
       "      <td>23/04/2004</td>\n",
       "      <td>12</td>\n",
       "      <td>11.0</td>\n",
       "      <td>13.5</td>\n",
       "    </tr>\n",
       "    <tr>\n",
       "      <th>1</th>\n",
       "      <td>Durant</td>\n",
       "      <td>Pierre</td>\n",
       "      <td>11/11/2005</td>\n",
       "      <td>17</td>\n",
       "      <td>14.5</td>\n",
       "      <td>13.0</td>\n",
       "    </tr>\n",
       "    <tr>\n",
       "      <th>2</th>\n",
       "      <td>Leporter</td>\n",
       "      <td>Alexia</td>\n",
       "      <td>13/09/2004</td>\n",
       "      <td>8</td>\n",
       "      <td>10.0</td>\n",
       "      <td>13.0</td>\n",
       "    </tr>\n",
       "  </tbody>\n",
       "</table>\n",
       "</div>"
      ],
      "text/plain": [
       "        nom    prenom date_naissance  note_1  note_2  note_3\n",
       "0    Franek  Baptiste     23/04/2004      12    11.0    13.5\n",
       "1    Durant    Pierre     11/11/2005      17    14.5    13.0\n",
       "2  Leporter    Alexia     13/09/2004       8    10.0    13.0"
      ]
     },
     "execution_count": 11,
     "metadata": {},
     "output_type": "execute_result"
    }
   ],
   "source": [
    "data.loc[0:2]"
   ]
  },
  {
   "cell_type": "markdown",
   "metadata": {},
   "source": [
    "Changer le code précédent, pour afficher les lignes 2 à 4\n",
    "\n",
    "On va afficher, tous les élèves qui ont eu la moyenne à la **note_1**"
   ]
  },
  {
   "cell_type": "code",
   "execution_count": 13,
   "metadata": {},
   "outputs": [
    {
     "data": {
      "text/html": [
       "<div>\n",
       "<style scoped>\n",
       "    .dataframe tbody tr th:only-of-type {\n",
       "        vertical-align: middle;\n",
       "    }\n",
       "\n",
       "    .dataframe tbody tr th {\n",
       "        vertical-align: top;\n",
       "    }\n",
       "\n",
       "    .dataframe thead th {\n",
       "        text-align: right;\n",
       "    }\n",
       "</style>\n",
       "<table border=\"1\" class=\"dataframe\">\n",
       "  <thead>\n",
       "    <tr style=\"text-align: right;\">\n",
       "      <th></th>\n",
       "      <th>nom</th>\n",
       "      <th>prenom</th>\n",
       "      <th>date_naissance</th>\n",
       "      <th>note_1</th>\n",
       "      <th>note_2</th>\n",
       "      <th>note_3</th>\n",
       "    </tr>\n",
       "  </thead>\n",
       "  <tbody>\n",
       "    <tr>\n",
       "      <th>0</th>\n",
       "      <td>Franek</td>\n",
       "      <td>Baptiste</td>\n",
       "      <td>23/04/2004</td>\n",
       "      <td>12</td>\n",
       "      <td>11.0</td>\n",
       "      <td>13.5</td>\n",
       "    </tr>\n",
       "    <tr>\n",
       "      <th>1</th>\n",
       "      <td>Durant</td>\n",
       "      <td>Pierre</td>\n",
       "      <td>11/11/2005</td>\n",
       "      <td>17</td>\n",
       "      <td>14.5</td>\n",
       "      <td>13.0</td>\n",
       "    </tr>\n",
       "    <tr>\n",
       "      <th>3</th>\n",
       "      <td>Franc</td>\n",
       "      <td>Noemie</td>\n",
       "      <td>22/08/2004</td>\n",
       "      <td>18</td>\n",
       "      <td>18.5</td>\n",
       "      <td>17.0</td>\n",
       "    </tr>\n",
       "    <tr>\n",
       "      <th>5</th>\n",
       "      <td>Zine</td>\n",
       "      <td>Ellias</td>\n",
       "      <td>18/04/2003</td>\n",
       "      <td>14</td>\n",
       "      <td>3.0</td>\n",
       "      <td>8.0</td>\n",
       "    </tr>\n",
       "  </tbody>\n",
       "</table>\n",
       "</div>"
      ],
      "text/plain": [
       "      nom    prenom date_naissance  note_1  note_2  note_3\n",
       "0  Franek  Baptiste     23/04/2004      12    11.0    13.5\n",
       "1  Durant    Pierre     11/11/2005      17    14.5    13.0\n",
       "3   Franc    Noemie     22/08/2004      18    18.5    17.0\n",
       "5    Zine    Ellias     18/04/2003      14     3.0     8.0"
      ]
     },
     "execution_count": 13,
     "metadata": {},
     "output_type": "execute_result"
    }
   ],
   "source": [
    "data.loc[data[\"note_1\"]>=10]"
   ]
  },
  {
   "cell_type": "markdown",
   "metadata": {},
   "source": [
    "Changer le code précédent, pour afficher tous les élèves qui ont eu une note supérieure à 14 pour la note_2"
   ]
  },
  {
   "cell_type": "markdown",
   "metadata": {},
   "source": [
    "On peut faire des calculs sur le tableau obtenu par la requête.\n",
    "\n",
    "On peut calculer la moyenne des élèves qui ont ey une note supérieurs à 10 à la note_1:"
   ]
  },
  {
   "cell_type": "code",
   "execution_count": 14,
   "metadata": {},
   "outputs": [
    {
     "data": {
      "text/plain": [
       "note_1    15.250\n",
       "note_2    11.750\n",
       "note_3    12.875\n",
       "dtype: float64"
      ]
     },
     "execution_count": 14,
     "metadata": {},
     "output_type": "execute_result"
    }
   ],
   "source": [
    "data.loc[data[\"note_1\"]>=10].mean()"
   ]
  },
  {
   "cell_type": "markdown",
   "metadata": {},
   "source": [
    "On peut afficher de Leporter Alexia:"
   ]
  },
  {
   "cell_type": "code",
   "execution_count": 20,
   "metadata": {},
   "outputs": [
    {
     "data": {
      "text/html": [
       "<div>\n",
       "<style scoped>\n",
       "    .dataframe tbody tr th:only-of-type {\n",
       "        vertical-align: middle;\n",
       "    }\n",
       "\n",
       "    .dataframe tbody tr th {\n",
       "        vertical-align: top;\n",
       "    }\n",
       "\n",
       "    .dataframe thead th {\n",
       "        text-align: right;\n",
       "    }\n",
       "</style>\n",
       "<table border=\"1\" class=\"dataframe\">\n",
       "  <thead>\n",
       "    <tr style=\"text-align: right;\">\n",
       "      <th></th>\n",
       "      <th>nom</th>\n",
       "      <th>prenom</th>\n",
       "      <th>date_naissance</th>\n",
       "      <th>note_1</th>\n",
       "      <th>note_2</th>\n",
       "      <th>note_3</th>\n",
       "    </tr>\n",
       "  </thead>\n",
       "  <tbody>\n",
       "    <tr>\n",
       "      <th>2</th>\n",
       "      <td>Leporter</td>\n",
       "      <td>Alexia</td>\n",
       "      <td>13/09/2004</td>\n",
       "      <td>8</td>\n",
       "      <td>10.0</td>\n",
       "      <td>13.0</td>\n",
       "    </tr>\n",
       "  </tbody>\n",
       "</table>\n",
       "</div>"
      ],
      "text/plain": [
       "        nom  prenom date_naissance  note_1  note_2  note_3\n",
       "2  Leporter  Alexia     13/09/2004       8    10.0    13.0"
      ]
     },
     "execution_count": 20,
     "metadata": {},
     "output_type": "execute_result"
    }
   ],
   "source": [
    "data.loc[data[\"nom\"]==\"Leporter\"]"
   ]
  }
 ],
 "metadata": {
  "kernelspec": {
   "display_name": "Python 3",
   "language": "python",
   "name": "python3"
  },
  "language_info": {
   "codemirror_mode": {
    "name": "ipython",
    "version": 3
   },
   "file_extension": ".py",
   "mimetype": "text/x-python",
   "name": "python",
   "nbconvert_exporter": "python",
   "pygments_lexer": "ipython3",
   "version": "3.7.3"
  }
 },
 "nbformat": 4,
 "nbformat_minor": 2
}
