{
 "cells": [
  {
   "cell_type": "markdown",
   "metadata": {},
   "source": [
    "# Les modules"
   ]
  },
  {
   "cell_type": "markdown",
   "metadata": {},
   "source": [
    "En programmation comme dans d'autres domaines, on ne réinvente pas la roue ! On peut (**on doit**) réutiliser des bouts de code existants. Ils sont souvent rassemblés dans des fonctions ou des procédures rassemblées elles-mêmes dans une sorte de bibliothèque spécifique à une thématique donnée que l'on appelle **module**.\n",
    "\n",
    "Voici une liste non exhaustive de modules fréquemment utilisés :\n",
    "* tkinter : pour les interface graphiques\n",
    "* math : pour le calcul mathématique\n",
    "* random : pour le traitement aléatoire\n",
    "* PIL : pour le traitement d'images"
   ]
  },
  {
   "cell_type": "code",
   "execution_count": 16,
   "metadata": {},
   "outputs": [
    {
     "name": "stdout",
     "output_type": "stream",
     "text": [
      "1.4142135623730951\n",
      "3.141592653589793\n"
     ]
    }
   ],
   "source": [
    "#************************************************************************************************\n",
    "# Exemple d'utilisation du module math\n",
    "#************************************************************************************************\n",
    "import math\n",
    "\n",
    "racinede2 = math.sqrt(2)\n",
    "print(racinede2)\n",
    "print(math.pi)"
   ]
  },
  {
   "cell_type": "markdown",
   "metadata": {},
   "source": [
    "Pour utiliser un module, on fait appel au mot-clé **import** (ligne 4) en tout début de script. et pour utiliser une fonction (ou procédure) de ce module, on écrit le nom du module suivi du symbole \"**.**\" et le nom de la fonction comme à la lignes 6 ou l'on fait appel à la fonction sqrt(). On peut également faire appel à des constantes définies dans les module comme ici à la ligne 8 avec pi. Il n'y a pas de parenthése. Ce n'est donc ni une fonction, ni une procédure ! "
   ]
  }
 ],
 "metadata": {
  "kernelspec": {
   "display_name": "Python 3",
   "language": "python",
   "name": "python3"
  },
  "language_info": {
   "codemirror_mode": {
    "name": "ipython",
    "version": 3
   },
   "file_extension": ".py",
   "mimetype": "text/x-python",
   "name": "python",
   "nbconvert_exporter": "python",
   "pygments_lexer": "ipython3",
   "version": "3.7.3"
  }
 },
 "nbformat": 4,
 "nbformat_minor": 2
}
