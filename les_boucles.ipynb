{
 "cells": [
  {
   "cell_type": "markdown",
   "metadata": {},
   "source": [
    "# Les instructions répétitives"
   ]
  },
  {
   "cell_type": "markdown",
   "metadata": {},
   "source": [
    "Afin de réaliser plusieurs fois un bloc d'instructions, on utilise des **boucles**. Il existe 2 façons:\n",
    "* Si on connait à l'avance de nombre de fois que l'on veut répéter, on utilisera la **boucle bornée FOR (POUR)**\n",
    "* Sinon on utilisera la **boucle non bornée WHILE (TANT QUE)**. Le bloc d'instruction sera répété jusqu'à ce qu'une condition d'arrêt soit satisfaite"
   ]
  },
  {
   "cell_type": "markdown",
   "metadata": {},
   "source": [
    "#  La boucle FOR\n",
    "\n",
    "### Exemple 1\n",
    "\n",
    "Imaginez que vous ayez à afficher tous les nombres inférieurs ou égaux à 4.\n",
    "\n",
    "Plutôt que d'écrire, print(0), print(1), print(2), print(3), ...\n",
    "\n",
    "On peut demander à Python de répéter l'opération. \n",
    "\n",
    "Pour cela, on va utiliser la boucle **FOR** car on sait que nous allons répéter l'opération **'Afficher le nombre'** cinq fois.\n",
    "\n",
    "Voilà à quoi peut ressembler le programme:"
   ]
  },
  {
   "cell_type": "code",
   "execution_count": 2,
   "metadata": {},
   "outputs": [
    {
     "name": "stdout",
     "output_type": "stream",
     "text": [
      "0\n",
      "1\n",
      "2\n",
      "3\n",
      "4\n"
     ]
    }
   ],
   "source": [
    "for i in range(0,5):   # Cela signifie: pour i varaint de 0 à 5 exclus\n",
    "    print(i)           # on affiche i"
   ]
  },
  {
   "cell_type": "markdown",
   "metadata": {},
   "source": [
    "\n",
    "Comme vu précédemment, aprés le symbole \":\", on doit indenter. Dans notre cas, tout ce qui est indenté est répété 5 fois (de 0 à 4)\n",
    "\n",
    "Vous remarquerez qu'à coté des instructions, il y a des commentaires. Ce sont des phrases qui expliquent le code. \n",
    "\n",
    "Elles doivent d'être précédées du symbole **'#'**\n",
    "\n",
    "Cela a pour but :\n",
    "- de ne pas passer trop de temps à la compréhension d'un script que l'on a écrit il y a plusieurs mois...\n",
    "- Si dans un projet, on a besoin de transmettre notre code à un collègue, il ne sera pas perdu\n"
   ]
  },
  {
   "cell_type": "markdown",
   "metadata": {},
   "source": [
    "### Exemple 2\n",
    "\n",
    "On considère la fonction $f$ définie par $f(x)=x^2-2x+3$.\n",
    "\n",
    "On souhaite calculer l'image des réels de $-1$ à $3$ avec un pas de $1$.\n",
    "\n",
    "Pour cela, on va faire une boucle de $-1$ à $4$ (exclus) avec un pas de $1$:\n",
    "\n",
    "**for x in range(-1,4,1):**\n",
    "\n",
    "on va calculer à chaque fois l'image de x et l'afficher:\n",
    "\n",
    "<b>print(x ** 2 - 2 * x + 3)</b>\n",
    "\n",
    "Ce qui donne:"
   ]
  },
  {
   "cell_type": "code",
   "execution_count": 8,
   "metadata": {},
   "outputs": [
    {
     "name": "stdout",
     "output_type": "stream",
     "text": [
      "6\n",
      "3\n",
      "2\n",
      "3\n",
      "6\n"
     ]
    }
   ],
   "source": [
    "for x in range(-1,4,1):\n",
    "    print(x**2-2*x+3)"
   ]
  },
  {
   "cell_type": "markdown",
   "metadata": {},
   "source": [
    "On faire mieux en ajoutant: "
   ]
  },
  {
   "cell_type": "code",
   "execution_count": 7,
   "metadata": {},
   "outputs": [
    {
     "name": "stdout",
     "output_type": "stream",
     "text": [
      "f( -1 )= 6\n",
      "f( 0 )= 3\n",
      "f( 1 )= 2\n",
      "f( 2 )= 3\n",
      "f( 3 )= 6\n"
     ]
    }
   ],
   "source": [
    "for x in range(-1,4,1):\n",
    "    print('f(',x,')=',x**2-2*x+3)"
   ]
  },
  {
   "cell_type": "markdown",
   "metadata": {},
   "source": [
    "#  La boucle WHILE\n",
    "\n",
    "C'est le même principe que la boucle **FOR**, sauf que l'on répète des instructions **TANT QUE** une condition est respectée.\n",
    "\n",
    "Reprenons l'exemple 1:\n"
   ]
  },
  {
   "cell_type": "code",
   "execution_count": 13,
   "metadata": {},
   "outputs": [
    {
     "name": "stdout",
     "output_type": "stream",
     "text": [
      "0\n",
      "1\n",
      "2\n",
      "3\n",
      "4\n"
     ]
    }
   ],
   "source": [
    "i=0              #On commence par initialiser la variable i à 0\n",
    "while i<=4:      #Tant que i inférieur ou égale à 4 on répète:\n",
    "    print(i)     # On affiche i\n",
    "    i=i+1        # On incrémente i de 1    "
   ]
  },
  {
   "cell_type": "markdown",
   "metadata": {},
   "source": [
    "Reprenons l'exemple 2:"
   ]
  },
  {
   "cell_type": "code",
   "execution_count": 12,
   "metadata": {},
   "outputs": [
    {
     "name": "stdout",
     "output_type": "stream",
     "text": [
      "6\n",
      "3\n",
      "2\n",
      "3\n",
      "6\n",
      "11\n"
     ]
    }
   ],
   "source": [
    "x=-1                      #On commence par initialiser la variable x à -1\n",
    "while x<=4:               #Tant que x inférieur ou égal à 3 on répète: \n",
    "    print(x**2-2*x+3)     # On affiche l'image de x\n",
    "    x=x+1                 # On incrémente x de 1    "
   ]
  },
  {
   "cell_type": "markdown",
   "metadata": {},
   "source": [
    "Changer le code précédent afin qu'il affiche les images de tous les nombres compris entre -1 et 3 avec un pas de 0,5"
   ]
  },
  {
   "cell_type": "markdown",
   "metadata": {},
   "source": [
    "## Remarque:\n",
    "\n",
    "On utilise la boucle **WHILE** lorsque l'on se sait pas le nombre fois que l'on va répéter les instructions.\n",
    "\n",
    "Exemple: On veut afficher les carrés d'entiers inférieurs à 500.\n",
    "\n",
    "Sans faire de calcul, on ne sait pas combien il y en a.\n",
    "\n",
    "On peut écrire le programme suivant:\n"
   ]
  },
  {
   "cell_type": "code",
   "execution_count": 20,
   "metadata": {},
   "outputs": [
    {
     "name": "stdout",
     "output_type": "stream",
     "text": [
      "0 ^2= 0\n",
      "1 ^2= 1\n",
      "2 ^2= 4\n",
      "3 ^2= 9\n",
      "4 ^2= 16\n",
      "5 ^2= 25\n",
      "6 ^2= 36\n",
      "7 ^2= 49\n",
      "8 ^2= 64\n",
      "9 ^2= 81\n",
      "10 ^2= 100\n",
      "11 ^2= 121\n",
      "12 ^2= 144\n",
      "13 ^2= 169\n",
      "14 ^2= 196\n",
      "15 ^2= 225\n",
      "16 ^2= 256\n",
      "17 ^2= 289\n",
      "18 ^2= 324\n",
      "19 ^2= 361\n",
      "20 ^2= 400\n",
      "21 ^2= 441\n",
      "22 ^2= 484\n"
     ]
    }
   ],
   "source": [
    "n=0                #On initialise la variable n à 0\n",
    "while n**2<=500:   #Tant que le carré de n est inférieur à 500, on répète: \n",
    "    print(n,'^2=',n**2)    #afficher le carré de n\n",
    "    n=n+1          #On incrémente n de 1"
   ]
  },
  {
   "cell_type": "markdown",
   "metadata": {},
   "source": [
    "On voit que nous avons répéter la boucle 23 fois ( de 0 à 22)."
   ]
  },
  {
   "cell_type": "code",
   "execution_count": null,
   "metadata": {},
   "outputs": [],
   "source": []
  }
 ],
 "metadata": {
  "kernelspec": {
   "display_name": "Python 3",
   "language": "python",
   "name": "python3"
  },
  "language_info": {
   "codemirror_mode": {
    "name": "ipython",
    "version": 3
   },
   "file_extension": ".py",
   "mimetype": "text/x-python",
   "name": "python",
   "nbconvert_exporter": "python",
   "pygments_lexer": "ipython3",
   "version": "3.7.3"
  }
 },
 "nbformat": 4,
 "nbformat_minor": 2
}
