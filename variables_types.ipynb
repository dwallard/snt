{
 "cells": [
  {
   "cell_type": "markdown",
   "metadata": {},
   "source": [
    "# Variables et type de données"
   ]
  },
  {
   "cell_type": "markdown",
   "metadata": {},
   "source": [
    "## Les variables\n",
    "\n",
    "Les **variables** ont un rôle de \"lieu de stockage\" pour les données dans un programme. C'est une sorte de petit tiroir dans lequel on range une donnée. \n",
    "\n",
    "Chaque **variable** a un nom, par exemple : x,y, somme, moyenne_age, … "
   ]
  },
  {
   "cell_type": "markdown",
   "metadata": {},
   "source": [
    "*Exemple :*"
   ]
  },
  {
   "cell_type": "code",
   "execution_count": 1,
   "metadata": {},
   "outputs": [],
   "source": [
    "a = 8"
   ]
  },
  {
   "cell_type": "markdown",
   "metadata": {},
   "source": [
    "Dans cet exemple, on a créé en mémoire un *tiroir* nommé 'a' qui contient l'entier 8."
   ]
  },
  {
   "cell_type": "markdown",
   "metadata": {},
   "source": [
    "##  Convention d'écriture (les bonnes pratiques)"
   ]
  },
  {
   "cell_type": "markdown",
   "metadata": {},
   "source": [
    "En règle générale, on se limitera aux caractères alphanumériques non accentués et au caractère de soulignement *underscore*. On prendra également soin de nommer les variables de façon 'lisible' afin de refléter le rôle joué par cette variable.\n",
    "\n",
    "Il s'agit uniquement d'une convention, ceci n'est pas imposé par le langage lui-même mais cela permet d'avoir une lecture claire de notre programme.\n"
   ]
  },
  {
   "cell_type": "markdown",
   "metadata": {},
   "source": [
    "*Exemples*"
   ]
  },
  {
   "cell_type": "code",
   "execution_count": 2,
   "metadata": {},
   "outputs": [],
   "source": [
    "age = 16\n",
    "taille_m = 1.8"
   ]
  },
  {
   "cell_type": "markdown",
   "metadata": {},
   "source": [
    "On voit bien ici que nos variables sont clairement identifiées et bien plus parlantes que dans l'exemple suivant :"
   ]
  },
  {
   "cell_type": "code",
   "execution_count": 3,
   "metadata": {},
   "outputs": [],
   "source": [
    "x = 16\n",
    "y = 1.8"
   ]
  },
  {
   "cell_type": "markdown",
   "metadata": {},
   "source": [
    "##  Les types de données"
   ]
  },
  {
   "cell_type": "markdown",
   "metadata": {},
   "source": [
    "Les variables peuvent être de plusieurs types possibles. Les plus fréquents en Python sont :"
   ]
  },
  {
   "cell_type": "markdown",
   "metadata": {},
   "source": [
    "<table>\n",
    "<thead>\n",
    "<tr>\n",
    "<th align=\"left\">Type </th>\n",
    "<th align=\"center\"> Pour qui ?</th>\n",
    "<th align=\"right\"> Exemples </th>\n",
    "</tr>\n",
    "</thead>\n",
    "<tbody>\n",
    "<tr>\n",
    "<td align=\"left\"> int </td>\n",
    "<td align=\"center\"> Les entiers  </td>\n",
    "<td align=\"right\"> …, -5, -1, 0, 2, 6, … </td>\n",
    "</tr>\n",
    "<tr>\n",
    "<td align=\"left\"> float </td>\n",
    "<td align=\"center\"> Les réels </td>\n",
    "<td align=\"right\"> -5.28, 13.0, 18.7 </td>\n",
    "</tr>\n",
    "<tr>\n",
    "<td align=\"left\"> str </td>\n",
    "<td align=\"center\"> Les chaînes de caractères (texte) </td>\n",
    "<td align=\"right\"> ’Janvier’, ‘’28b6’’, ‘13’ </td>\n",
    "</tr>\n",
    "<tr>\n",
    "<td align=\"left\"> bool </td>\n",
    "<td align=\"center\"> Les booléens </td>\n",
    "<td align=\"right\"> uniquement deux valeurs possibles True (Vrai) ou False (Faux) </td>\n",
    "</tr>\n",
    "<tr>\n",
    "<td align=\"left\"> list </td>\n",
    "<td align=\"center\"> C’est une liste (ou tableau) dans lequel on peut stocker plusieurs valeurs idéalement de même type </td>\n",
    "<td align=\"right\"> [0, 1, 2, 4], [‘Janvier’, ‘Février’, ‘Mars’] </td>\n",
    "</tr>\n",
    "</tbody>\n",
    "</table>"
   ]
  },
  {
   "cell_type": "markdown",
   "metadata": {},
   "source": [
    "Pour connaitre le type de la variable x, en python on utilise la fonction **type(x)**. Par exemple, la variable 'age' utilisée plus haut est bien de type entier :"
   ]
  },
  {
   "cell_type": "code",
   "execution_count": 4,
   "metadata": {
    "scrolled": true
   },
   "outputs": [
    {
     "data": {
      "text/plain": [
       "int"
      ]
     },
     "execution_count": 4,
     "metadata": {},
     "output_type": "execute_result"
    }
   ],
   "source": [
    "type(age)"
   ]
  },
  {
   "cell_type": "markdown",
   "metadata": {},
   "source": [
    "##  Attention au type !"
   ]
  },
  {
   "cell_type": "code",
   "execution_count": 5,
   "metadata": {},
   "outputs": [
    {
     "data": {
      "text/plain": [
       "str"
      ]
     },
     "execution_count": 5,
     "metadata": {},
     "output_type": "execute_result"
    }
   ],
   "source": [
    "chaine = \"16\"\n",
    "type(chaine)"
   ]
  },
  {
   "cell_type": "markdown",
   "metadata": {},
   "source": [
    "Ici la variable *chaine* contient la chaine de caractères constituée du caractère **'1'** suivi du caractère **'6'** et non de l'entier 16. Il faut donc être trés vigilant avec le type de notre variable !"
   ]
  }
 ],
 "metadata": {
  "kernelspec": {
   "display_name": "Python 3",
   "language": "python",
   "name": "python3"
  },
  "language_info": {
   "codemirror_mode": {
    "name": "ipython",
    "version": 3
   },
   "file_extension": ".py",
   "mimetype": "text/x-python",
   "name": "python",
   "nbconvert_exporter": "python",
   "pygments_lexer": "ipython3",
   "version": "3.7.3"
  }
 },
 "nbformat": 4,
 "nbformat_minor": 2
}
